{
  "nbformat": 4,
  "nbformat_minor": 0,
  "metadata": {
    "colab": {
      "name": "Object Detection Task 1.ipynb",
      "provenance": []
    },
    "kernelspec": {
      "name": "python3",
      "display_name": "Python 3"
    },
    "language_info": {
      "name": "python"
    }
  },
  "cells": [
    {
      "cell_type": "markdown",
      "source": [
        "Mounting Google Drive"
      ],
      "metadata": {
        "id": "FHIx9Jec39cK"
      }
    },
    {
      "cell_type": "code",
      "source": [
        "\n",
        "from google.colab import drive\n",
        "drive.mount('/content/gdrive')"
      ],
      "metadata": {
        "colab": {
          "base_uri": "https://localhost:8080/"
        },
        "id": "kojiZX0bEPBs",
        "outputId": "e060f7a1-ddac-4dd5-acce-a1d1114d1a60"
      },
      "execution_count": 37,
      "outputs": [
        {
          "output_type": "stream",
          "name": "stdout",
          "text": [
            "Drive already mounted at /content/gdrive; to attempt to forcibly remount, call drive.mount(\"/content/gdrive\", force_remount=True).\n"
          ]
        }
      ]
    },
    {
      "cell_type": "markdown",
      "source": [
        "Importing Libraries \n"
      ],
      "metadata": {
        "id": "wJVd2hza4S96"
      }
    },
    {
      "cell_type": "code",
      "execution_count": 38,
      "metadata": {
        "id": "bLXFAbBnEIXG"
      },
      "outputs": [],
      "source": [
        "import os\n",
        "import numpy as np\n",
        "import matplotlib.pyplot as plt\n",
        "import matplotlib.image as mpimg"
      ]
    },
    {
      "cell_type": "markdown",
      "source": [
        "Changing the current working directory to the given drive path"
      ],
      "metadata": {
        "id": "res-IhJG4Wqh"
      }
    },
    {
      "cell_type": "code",
      "source": [
        "os.chdir('/content/gdrive/MyDrive/TSF GRIPMarch22')"
      ],
      "metadata": {
        "id": "coNabQLhoBpB"
      },
      "execution_count": 39,
      "outputs": []
    },
    {
      "cell_type": "markdown",
      "source": [
        "Importing machine learning library(PyTorch) and OpenCV library"
      ],
      "metadata": {
        "id": "1N5VtOqb4WHk"
      }
    },
    {
      "cell_type": "code",
      "source": [
        "import torch\n",
        "import torchvision\n",
        "from PIL import Image\n",
        "import cv2 #opencv"
      ],
      "metadata": {
        "id": "APl-KBn5TReY"
      },
      "execution_count": 40,
      "outputs": []
    },
    {
      "cell_type": "markdown",
      "source": [
        "Getting the pretrained YOLOv5 object detection model"
      ],
      "metadata": {
        "id": "HHdwY5tb5FWe"
      }
    },
    {
      "cell_type": "code",
      "source": [
        "model = torch.hub.load('ultralytics/yolov5', 'yolov5s', pretrained=True)"
      ],
      "metadata": {
        "colab": {
          "base_uri": "https://localhost:8080/"
        },
        "id": "JT6WNdV-TSXW",
        "outputId": "81bf3400-1cbd-4f14-f25d-d31be621696c"
      },
      "execution_count": 41,
      "outputs": [
        {
          "output_type": "stream",
          "name": "stderr",
          "text": [
            "Using cache found in /root/.cache/torch/hub/ultralytics_yolov5_master\n",
            "\u001b[31m\u001b[1mrequirements:\u001b[0m PyYAML>=5.3.1 not found and is required by YOLOv5, attempting auto-update...\n",
            "Requirement already satisfied: PyYAML>=5.3.1 in /usr/local/lib/python3.7/dist-packages (6.0)\n",
            "\n",
            "\u001b[31m\u001b[1mrequirements:\u001b[0m 1 package updated per /root/.cache/torch/hub/ultralytics_yolov5_master/requirements.txt\n",
            "\u001b[31m\u001b[1mrequirements:\u001b[0m ⚠️ \u001b[1mRestart runtime or rerun command for updates to take effect\u001b[0m\n",
            "\n",
            "YOLOv5 🚀 2022-4-21 torch 1.10.0+cu111 CPU\n",
            "\n",
            "Fusing layers... \n",
            "YOLOv5s summary: 213 layers, 7225885 parameters, 0 gradients\n",
            "Adding AutoShape... \n"
          ]
        }
      ]
    },
    {
      "cell_type": "markdown",
      "source": [
        "Reading the sample image"
      ],
      "metadata": {
        "id": "jZpI1Fn05V9R"
      }
    },
    {
      "cell_type": "code",
      "source": [
        "\n",
        "img = cv2.imread('0000000008.png')\n",
        "img = cv2.cvtColor(img,cv2.COLOR_BGR2RGB)\n",
        "plt.figure(figsize=[16,5])\n",
        "plt.imshow(img)\n"
      ],
      "metadata": {
        "colab": {
          "base_uri": "https://localhost:8080/"
        },
        "outputId": "4ab1feb8-b933-4e7f-e46b-0738699a9754",
        "id": "ysVqQCE6tpF6"
      },
      "execution_count": 42,
      "outputs": [
        {
          "output_type": "execute_result",
          "data": {
            "text/plain": [
              "<matplotlib.image.AxesImage at 0x7f34e7e2b710>"
            ]
          },
          "metadata": {},
          "execution_count": 42
        }
      ]
    },
    {
      "cell_type": "markdown",
      "source": [
        "Saving the sample image to drive"
      ],
      "metadata": {
        "id": "7WNbL_QA5oND"
      }
    },
    {
      "cell_type": "code",
      "source": [
        "cv2.imwrite('sample image.png', img)"
      ],
      "metadata": {
        "colab": {
          "base_uri": "https://localhost:8080/"
        },
        "id": "G-WbGQGXyyNL",
        "outputId": "f7af6d64-6a9c-4234-f308-a48472b4df5b"
      },
      "execution_count": 43,
      "outputs": [
        {
          "output_type": "execute_result",
          "data": {
            "text/plain": [
              "True"
            ]
          },
          "metadata": {},
          "execution_count": 43
        }
      ]
    },
    {
      "cell_type": "markdown",
      "source": [
        "Object detection "
      ],
      "metadata": {
        "id": "SpBr5ml85tXz"
      }
    },
    {
      "cell_type": "code",
      "source": [
        "results = model(img)\n",
        "results.pandas().xyxy[0]"
      ],
      "metadata": {
        "colab": {
          "base_uri": "https://localhost:8080/",
          "height": 425
        },
        "id": "HWatfRM8Vqd2",
        "outputId": "7ac5593e-0109-4829-f62b-6fdda2e43a58"
      },
      "execution_count": 44,
      "outputs": [
        {
          "output_type": "execute_result",
          "data": {
            "text/plain": [
              "           xmin        ymin         xmax        ymax  confidence  class  \\\n",
              "0    835.820618  185.752045   923.191589  237.004425    0.796551      1   \n",
              "1    741.267090  164.320480   836.596497  351.569489    0.773329      0   \n",
              "2   1021.713501  191.850250  1125.360229  246.099792    0.762231      1   \n",
              "3    266.583374  154.644043   400.448456  264.313599    0.746786      2   \n",
              "4    747.024231  242.360565   847.754578  369.184174    0.719400      1   \n",
              "5     23.292364  107.764618    47.248184  144.817627    0.607246      9   \n",
              "6    396.771301  165.902893   454.318115  211.206436    0.593893      2   \n",
              "7     81.169830  102.479424   107.734398  146.627090    0.502049      9   \n",
              "8    120.174477  178.176804   177.271835  211.807755    0.485706      2   \n",
              "9     29.268227  188.036713    73.538475  210.343918    0.363932      2   \n",
              "10  1135.355103   84.280983  1166.895508  127.295212    0.334960      9   \n",
              "11     3.681379  191.639587    69.578186  218.514938    0.259184      2   \n",
              "\n",
              "             name  \n",
              "0         bicycle  \n",
              "1          person  \n",
              "2         bicycle  \n",
              "3             car  \n",
              "4         bicycle  \n",
              "5   traffic light  \n",
              "6             car  \n",
              "7   traffic light  \n",
              "8             car  \n",
              "9             car  \n",
              "10  traffic light  \n",
              "11            car  "
            ],
            "text/html": [
              "\n",
              "  <div id=\"df-c4d7809f-1ca2-4398-bb5c-4fecfa04f2e8\">\n",
              "    <div class=\"colab-df-container\">\n",
              "      <div>\n",
              "<style scoped>\n",
              "    .dataframe tbody tr th:only-of-type {\n",
              "        vertical-align: middle;\n",
              "    }\n",
              "\n",
              "    .dataframe tbody tr th {\n",
              "        vertical-align: top;\n",
              "    }\n",
              "\n",
              "    .dataframe thead th {\n",
              "        text-align: right;\n",
              "    }\n",
              "</style>\n",
              "<table border=\"1\" class=\"dataframe\">\n",
              "  <thead>\n",
              "    <tr style=\"text-align: right;\">\n",
              "      <th></th>\n",
              "      <th>xmin</th>\n",
              "      <th>ymin</th>\n",
              "      <th>xmax</th>\n",
              "      <th>ymax</th>\n",
              "      <th>confidence</th>\n",
              "      <th>class</th>\n",
              "      <th>name</th>\n",
              "    </tr>\n",
              "  </thead>\n",
              "  <tbody>\n",
              "    <tr>\n",
              "      <th>0</th>\n",
              "      <td>835.820618</td>\n",
              "      <td>185.752045</td>\n",
              "      <td>923.191589</td>\n",
              "      <td>237.004425</td>\n",
              "      <td>0.796551</td>\n",
              "      <td>1</td>\n",
              "      <td>bicycle</td>\n",
              "    </tr>\n",
              "    <tr>\n",
              "      <th>1</th>\n",
              "      <td>741.267090</td>\n",
              "      <td>164.320480</td>\n",
              "      <td>836.596497</td>\n",
              "      <td>351.569489</td>\n",
              "      <td>0.773329</td>\n",
              "      <td>0</td>\n",
              "      <td>person</td>\n",
              "    </tr>\n",
              "    <tr>\n",
              "      <th>2</th>\n",
              "      <td>1021.713501</td>\n",
              "      <td>191.850250</td>\n",
              "      <td>1125.360229</td>\n",
              "      <td>246.099792</td>\n",
              "      <td>0.762231</td>\n",
              "      <td>1</td>\n",
              "      <td>bicycle</td>\n",
              "    </tr>\n",
              "    <tr>\n",
              "      <th>3</th>\n",
              "      <td>266.583374</td>\n",
              "      <td>154.644043</td>\n",
              "      <td>400.448456</td>\n",
              "      <td>264.313599</td>\n",
              "      <td>0.746786</td>\n",
              "      <td>2</td>\n",
              "      <td>car</td>\n",
              "    </tr>\n",
              "    <tr>\n",
              "      <th>4</th>\n",
              "      <td>747.024231</td>\n",
              "      <td>242.360565</td>\n",
              "      <td>847.754578</td>\n",
              "      <td>369.184174</td>\n",
              "      <td>0.719400</td>\n",
              "      <td>1</td>\n",
              "      <td>bicycle</td>\n",
              "    </tr>\n",
              "    <tr>\n",
              "      <th>5</th>\n",
              "      <td>23.292364</td>\n",
              "      <td>107.764618</td>\n",
              "      <td>47.248184</td>\n",
              "      <td>144.817627</td>\n",
              "      <td>0.607246</td>\n",
              "      <td>9</td>\n",
              "      <td>traffic light</td>\n",
              "    </tr>\n",
              "    <tr>\n",
              "      <th>6</th>\n",
              "      <td>396.771301</td>\n",
              "      <td>165.902893</td>\n",
              "      <td>454.318115</td>\n",
              "      <td>211.206436</td>\n",
              "      <td>0.593893</td>\n",
              "      <td>2</td>\n",
              "      <td>car</td>\n",
              "    </tr>\n",
              "    <tr>\n",
              "      <th>7</th>\n",
              "      <td>81.169830</td>\n",
              "      <td>102.479424</td>\n",
              "      <td>107.734398</td>\n",
              "      <td>146.627090</td>\n",
              "      <td>0.502049</td>\n",
              "      <td>9</td>\n",
              "      <td>traffic light</td>\n",
              "    </tr>\n",
              "    <tr>\n",
              "      <th>8</th>\n",
              "      <td>120.174477</td>\n",
              "      <td>178.176804</td>\n",
              "      <td>177.271835</td>\n",
              "      <td>211.807755</td>\n",
              "      <td>0.485706</td>\n",
              "      <td>2</td>\n",
              "      <td>car</td>\n",
              "    </tr>\n",
              "    <tr>\n",
              "      <th>9</th>\n",
              "      <td>29.268227</td>\n",
              "      <td>188.036713</td>\n",
              "      <td>73.538475</td>\n",
              "      <td>210.343918</td>\n",
              "      <td>0.363932</td>\n",
              "      <td>2</td>\n",
              "      <td>car</td>\n",
              "    </tr>\n",
              "    <tr>\n",
              "      <th>10</th>\n",
              "      <td>1135.355103</td>\n",
              "      <td>84.280983</td>\n",
              "      <td>1166.895508</td>\n",
              "      <td>127.295212</td>\n",
              "      <td>0.334960</td>\n",
              "      <td>9</td>\n",
              "      <td>traffic light</td>\n",
              "    </tr>\n",
              "    <tr>\n",
              "      <th>11</th>\n",
              "      <td>3.681379</td>\n",
              "      <td>191.639587</td>\n",
              "      <td>69.578186</td>\n",
              "      <td>218.514938</td>\n",
              "      <td>0.259184</td>\n",
              "      <td>2</td>\n",
              "      <td>car</td>\n",
              "    </tr>\n",
              "  </tbody>\n",
              "</table>\n",
              "</div>\n",
              "      <button class=\"colab-df-convert\" onclick=\"convertToInteractive('df-c4d7809f-1ca2-4398-bb5c-4fecfa04f2e8')\"\n",
              "              title=\"Convert this dataframe to an interactive table.\"\n",
              "              style=\"display:none;\">\n",
              "        \n",
              "  <svg xmlns=\"http://www.w3.org/2000/svg\" height=\"24px\"viewBox=\"0 0 24 24\"\n",
              "       width=\"24px\">\n",
              "    <path d=\"M0 0h24v24H0V0z\" fill=\"none\"/>\n",
              "    <path d=\"M18.56 5.44l.94 2.06.94-2.06 2.06-.94-2.06-.94-.94-2.06-.94 2.06-2.06.94zm-11 1L8.5 8.5l.94-2.06 2.06-.94-2.06-.94L8.5 2.5l-.94 2.06-2.06.94zm10 10l.94 2.06.94-2.06 2.06-.94-2.06-.94-.94-2.06-.94 2.06-2.06.94z\"/><path d=\"M17.41 7.96l-1.37-1.37c-.4-.4-.92-.59-1.43-.59-.52 0-1.04.2-1.43.59L10.3 9.45l-7.72 7.72c-.78.78-.78 2.05 0 2.83L4 21.41c.39.39.9.59 1.41.59.51 0 1.02-.2 1.41-.59l7.78-7.78 2.81-2.81c.8-.78.8-2.07 0-2.86zM5.41 20L4 18.59l7.72-7.72 1.47 1.35L5.41 20z\"/>\n",
              "  </svg>\n",
              "      </button>\n",
              "      \n",
              "  <style>\n",
              "    .colab-df-container {\n",
              "      display:flex;\n",
              "      flex-wrap:wrap;\n",
              "      gap: 12px;\n",
              "    }\n",
              "\n",
              "    .colab-df-convert {\n",
              "      background-color: #E8F0FE;\n",
              "      border: none;\n",
              "      border-radius: 50%;\n",
              "      cursor: pointer;\n",
              "      display: none;\n",
              "      fill: #1967D2;\n",
              "      height: 32px;\n",
              "      padding: 0 0 0 0;\n",
              "      width: 32px;\n",
              "    }\n",
              "\n",
              "    .colab-df-convert:hover {\n",
              "      background-color: #E2EBFA;\n",
              "      box-shadow: 0px 1px 2px rgba(60, 64, 67, 0.3), 0px 1px 3px 1px rgba(60, 64, 67, 0.15);\n",
              "      fill: #174EA6;\n",
              "    }\n",
              "\n",
              "    [theme=dark] .colab-df-convert {\n",
              "      background-color: #3B4455;\n",
              "      fill: #D2E3FC;\n",
              "    }\n",
              "\n",
              "    [theme=dark] .colab-df-convert:hover {\n",
              "      background-color: #434B5C;\n",
              "      box-shadow: 0px 1px 3px 1px rgba(0, 0, 0, 0.15);\n",
              "      filter: drop-shadow(0px 1px 2px rgba(0, 0, 0, 0.3));\n",
              "      fill: #FFFFFF;\n",
              "    }\n",
              "  </style>\n",
              "\n",
              "      <script>\n",
              "        const buttonEl =\n",
              "          document.querySelector('#df-c4d7809f-1ca2-4398-bb5c-4fecfa04f2e8 button.colab-df-convert');\n",
              "        buttonEl.style.display =\n",
              "          google.colab.kernel.accessAllowed ? 'block' : 'none';\n",
              "\n",
              "        async function convertToInteractive(key) {\n",
              "          const element = document.querySelector('#df-c4d7809f-1ca2-4398-bb5c-4fecfa04f2e8');\n",
              "          const dataTable =\n",
              "            await google.colab.kernel.invokeFunction('convertToInteractive',\n",
              "                                                     [key], {});\n",
              "          if (!dataTable) return;\n",
              "\n",
              "          const docLinkHtml = 'Like what you see? Visit the ' +\n",
              "            '<a target=\"_blank\" href=https://colab.research.google.com/notebooks/data_table.ipynb>data table notebook</a>'\n",
              "            + ' to learn more about interactive tables.';\n",
              "          element.innerHTML = '';\n",
              "          dataTable['output_type'] = 'display_data';\n",
              "          await google.colab.output.renderOutput(dataTable, element);\n",
              "          const docLink = document.createElement('div');\n",
              "          docLink.innerHTML = docLinkHtml;\n",
              "          element.appendChild(docLink);\n",
              "        }\n",
              "      </script>\n",
              "    </div>\n",
              "  </div>\n",
              "  "
            ]
          },
          "metadata": {},
          "execution_count": 44
        }
      ]
    },
    {
      "cell_type": "markdown",
      "source": [
        "Putting text in the image"
      ],
      "metadata": {
        "id": "CsqG_BT25zyl"
      }
    },
    {
      "cell_type": "code",
      "source": [
        "type(img)\n",
        "img.shape \n",
        "imgs = torch.tensor(img)\n",
        "imgs = imgs.permute(2,0,1) #\n",
        "visualize_img = torchvision.utils.draw_bounding_boxes(imgs, results.xyxy[0][:,0:4], list(results.pandas().xyxy[0]['name']))\n",
        "visualize_img.shape\n",
        "vis = visualize_img.permute(1,2,0)\n",
        "vis.shape\n",
        "vis = vis.numpy()"
      ],
      "metadata": {
        "id": "lR7s50wsYBoc"
      },
      "execution_count": 45,
      "outputs": []
    },
    {
      "cell_type": "code",
      "source": [
        "type(vis)\n",
        "vis.shape\n",
        "plt.figure(figsize=[16,5])\n",
        "plt.imshow(vis)"
      ],
      "metadata": {
        "colab": {
          "base_uri": "https://localhost:8080/"
        },
        "id": "2z0EmQWEYHic",
        "outputId": "b1b3444c-983b-4fbc-f187-04dd249fd014"
      },
      "execution_count": 46,
      "outputs": [
        {
          "output_type": "execute_result",
          "data": {
            "text/plain": [
              "<matplotlib.image.AxesImage at 0x7f34e7c8b590>"
            ]
          },
          "metadata": {},
          "execution_count": 46
        }
      ]
    },
    {
      "cell_type": "markdown",
      "source": [
        "Saving the modified image to drive"
      ],
      "metadata": {
        "id": "ypmPsPqL54-M"
      }
    },
    {
      "cell_type": "code",
      "source": [
        "cv2.imwrite('modified sample image.png', vis)"
      ],
      "metadata": {
        "colab": {
          "base_uri": "https://localhost:8080/"
        },
        "id": "gTdfdbYn3jyK",
        "outputId": "d6330e9a-3862-4cdc-c7d8-b1d8d65859e8"
      },
      "execution_count": 47,
      "outputs": [
        {
          "output_type": "execute_result",
          "data": {
            "text/plain": [
              "True"
            ]
          },
          "metadata": {},
          "execution_count": 47
        }
      ]
    },
    {
      "cell_type": "code",
      "source": [
        ""
      ],
      "metadata": {
        "id": "6N2gi-nhB4E6"
      },
      "execution_count": null,
      "outputs": []
    }
  ]
}